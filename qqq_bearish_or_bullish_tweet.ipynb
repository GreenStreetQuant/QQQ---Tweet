{
  "nbformat": 4,
  "nbformat_minor": 0,
  "metadata": {
    "colab": {
      "name": "qqq_bearish_or_bullish_tweet.ipynb",
      "provenance": [],
      "collapsed_sections": [],
      "authorship_tag": "ABX9TyMoIDOq8TDSYB5UUR0ISJBO",
      "include_colab_link": true
    },
    "kernelspec": {
      "name": "python3",
      "display_name": "Python 3"
    }
  },
  "cells": [
    {
      "cell_type": "markdown",
      "metadata": {
        "id": "view-in-github",
        "colab_type": "text"
      },
      "source": [
        "<a href=\"https://colab.research.google.com/github/GreenStreetQuant/QQQ---Tweet/blob/master/qqq_bearish_or_bullish_tweet.ipynb\" target=\"_parent\"><img src=\"https://colab.research.google.com/assets/colab-badge.svg\" alt=\"Open In Colab\"/></a>"
      ]
    },
    {
      "cell_type": "code",
      "metadata": {
        "id": "30tonmNkD5tI",
        "colab_type": "code",
        "colab": {}
      },
      "source": [
        "pip install yfinance"
      ],
      "execution_count": null,
      "outputs": []
    },
    {
      "cell_type": "code",
      "metadata": {
        "id": "RkeNOWsPGgTN",
        "colab_type": "code",
        "colab": {}
      },
      "source": [
        "pip install feature_selector"
      ],
      "execution_count": null,
      "outputs": []
    },
    {
      "cell_type": "code",
      "metadata": {
        "id": "O1C19tzvcZ_b",
        "colab_type": "code",
        "colab": {}
      },
      "source": [
        "import tweepy\n",
        "import pandas as pd \n",
        "import datetime as dt \n",
        "import yfinance as yf\n",
        "import numpy as np\n",
        "from sklearn.ensemble import RandomForestClassifier\n",
        "from feature_selector import FeatureSelector"
      ],
      "execution_count": 5,
      "outputs": []
    },
    {
      "cell_type": "code",
      "metadata": {
        "id": "G6ZMPyrqeZxM",
        "colab_type": "code",
        "colab": {}
      },
      "source": [
        "consumer_key = 'asdf'\n",
        "consumer_secret = 'asdf'\n",
        "access_token = 'asdfasdf'\n",
        "access_token_secret = 'asdf'\n",
        "auth = tweepy.OAuthHandler(consumer_key, consumer_secret)\n",
        "auth.set_access_token(access_token, access_token_secret)\n",
        "api = tweepy.API(auth)"
      ],
      "execution_count": 59,
      "outputs": []
    },
    {
      "cell_type": "code",
      "metadata": {
        "id": "AuTBoVDFDtt1",
        "colab_type": "code",
        "colab": {
          "base_uri": "https://localhost:8080/",
          "height": 51
        },
        "outputId": "0cce2fc8-2be9-4092-f0ff-988b47225228"
      },
      "source": [
        "qqq = yf.download(\"QQQ\",period='2y')\n",
        "spy = yf.download(\"SPY\",period='2y')"
      ],
      "execution_count": 3,
      "outputs": [
        {
          "output_type": "stream",
          "text": [
            "[*********************100%***********************]  1 of 1 completed\n",
            "[*********************100%***********************]  1 of 1 completed\n"
          ],
          "name": "stdout"
        }
      ]
    },
    {
      "cell_type": "code",
      "metadata": {
        "id": "cdDO9Be0FLTu",
        "colab_type": "code",
        "colab": {}
      },
      "source": [
        "def exp_smooth_data(data):\n",
        "\n",
        "  smooth_list = []\n",
        "\n",
        "  #first value y for s \n",
        "  smooth_list.append(data.iloc[0])\n",
        "\n",
        "  for v in data[1:]:\n",
        "    st = 0.2 * v + (1 - 0.2) * smooth_list[-1]\n",
        "    smooth_list.append(st)\n",
        "\n",
        "  return smooth_list \n",
        "\n",
        "def computeRSI(data):\n",
        "    diff = data.diff(1).dropna()        # diff in one field(one day)\n",
        "\n",
        "    #this preservers dimensions off diff values\n",
        "    up_chg = 0 * diff\n",
        "    down_chg = 0 * diff\n",
        "    \n",
        "    # up change is equal to the positive difference, otherwise equal to zero\n",
        "    up_chg[diff > 0] = diff[ diff > 0]\n",
        "    \n",
        "    # down change is equal to negative deifference, otherwise equal to zero\n",
        "    down_chg[diff < 0] = diff[ diff < 0 ]\n",
        "    \n",
        "    # check pandas documentation for ewm\n",
        "    # we set com=time_window-1 so we get decay alpha=1/time_window\n",
        "\n",
        "    up_chg_avg   = up_chg.ewm(com=14-1 , min_periods=14).mean()\n",
        "    down_chg_avg = down_chg.ewm(com=14-1 , min_periods=14).mean()\n",
        "    \n",
        "    \n",
        "    rs = abs(up_chg_avg/down_chg_avg)\n",
        "    rsi = 100 - 100/(1+rs)\n",
        "    return rsi\n",
        "\n",
        "def get_features(qqq,spy):\n",
        "\n",
        "  df_smoothed = pd.DataFrame()\n",
        "\n",
        "  close_smooth = exp_smooth_data(qqq['Close'])\n",
        "\n",
        "  df_smoothed['close_smooth'] = close_smooth\n",
        "\n",
        "  open_smooth = exp_smooth_data(qqq['Open'])\n",
        "\n",
        "  df_smoothed['Open_smooth'] = open_smooth\n",
        "\n",
        "  high_smooth = exp_smooth_data(qqq['High'])\n",
        "\n",
        "  df_smoothed['high_smooth'] = high_smooth\n",
        "\n",
        "  low_smooth = exp_smooth_data(qqq['Low'])\n",
        "\n",
        "  df_smoothed['low_smooth'] = low_smooth\n",
        "\n",
        "  volume_smooth = exp_smooth_data(qqq['Volume'])\n",
        "\n",
        "  df_smoothed['volume_smooth'] = volume_smooth\n",
        "\n",
        "  df_sp_smoothed = pd.DataFrame()\n",
        "\n",
        "  close_smooth_sp = exp_smooth_data(spy['Close'])\n",
        "\n",
        "  df_sp_smoothed['close_smooth'] = close_smooth_sp\n",
        "\n",
        "  df_smoothed['rsi'] = computeRSI(df_smoothed['close_smooth'])\n",
        "  df_smoothed['william'] = (df_smoothed['high_smooth'].rolling(14).max() - df_smoothed['close_smooth'])/(df_smoothed['high_smooth'].rolling(14).max() - df_smoothed['low_smooth'].rolling(14).min()) * -100\n",
        "  df_smoothed['stch_osc'] = 100 * (df_smoothed['close_smooth'] - df_smoothed['low_smooth'].rolling(14).min())/(df_smoothed['high_smooth'].rolling(14).max() - df_smoothed['low_smooth'].rolling(14).min())\n",
        "  df_smoothed['price_rate_change'] = (df_smoothed['close_smooth'] - df_smoothed['close_smooth'].shift(14))/df_smoothed['close_smooth'].shift(14)\n",
        "  df_smoothed['log_price'] = np.log(df_smoothed['close_smooth'])\n",
        "  df_smoothed['log_mov'] = df_smoothed['log_price'].rolling(6).mean()\n",
        "  df_smoothed['log_diff'] = df_smoothed['log_price'] - df_smoothed['log_mov']\n",
        "  df_smoothed['fast_mov'] = df_smoothed['close_smooth'].rolling(3).mean()\n",
        "  df_smoothed['slow_mov'] = df_smoothed['close_smooth'].rolling(7).mean()\n",
        "  df_smoothed['mov_diff'] = df_smoothed['fast_mov'] - df_smoothed['slow_mov']\n",
        "  df_smoothed['mac_fast'] = df_smoothed['close_smooth'].rolling(7).mean()\n",
        "  df_smoothed['mac_slow'] = df_smoothed['close_smooth'].rolling(20).mean()\n",
        "  df_smoothed['mac_diff'] = df_smoothed['mac_fast'] - df_smoothed['mac_slow']\n",
        "  df_smoothed['volume_log'] = np.log(df_smoothed['volume_smooth'])\n",
        "  df_smoothed['pct_change'] = df_smoothed['close_smooth'].pct_change()\n",
        "  df_smoothed['z_score'] = (df_smoothed['close_smooth'] - df_smoothed['close_smooth'].rolling(7).mean())/df_smoothed['close_smooth'].std()\n",
        "  df_smoothed['sp_return'] = df_sp_smoothed['close_smooth'].pct_change(14)\n",
        "  df_smoothed['return_two_week'] = df_smoothed['close_smooth'].pct_change(14)\n",
        "  df_smoothed['return_day'] = df_smoothed['close_smooth'].pct_change(1)\n",
        "  df_smoothed['return_month'] = df_smoothed['close_smooth'].pct_change(5)\n",
        "  df_smoothed['return_two_day'] = df_smoothed['close_smooth'].pct_change(2)\n",
        "  df_smoothed['return_week'] = df_smoothed['close_smooth'].pct_change(5)\n",
        "  df_smoothed['return_diff_sp'] = df_smoothed['return_day'] - df_smoothed['sp_return']\n",
        "  df_smoothed['return_sp_std'] = df_smoothed['sp_return'].rolling(14).std()\n",
        "  df_smoothed['return_std'] = df_smoothed['return_week'].rolling(14).std()\n",
        "  df_smoothed['last_close'] = df_smoothed['close_smooth'].shift(14)\n",
        "  df_smoothed['last_open'] = df_smoothed['Open_smooth'].shift(14)\n",
        "  df_smoothed['last_high'] = df_smoothed['high_smooth'].shift(14)\n",
        "  df_smoothed['last_low'] = df_smoothed['low_smooth'].shift(14)\n",
        "  df_smoothed['high_low'] = df_smoothed['last_high'] - df_smoothed['last_low']\n",
        "  df_smoothed.head()\n",
        "\n",
        "  df_smoothed = df_smoothed.dropna()\n",
        "\n",
        "  df_complete = df_smoothed\n",
        "\n",
        "  df_complete['win'] = np.where((df_complete['close_smooth'].shift(-5) > df_complete['close_smooth']), 1, 0)\n",
        "  return df_complete\n",
        "\n",
        "def get_bearish_or_bullish_signal(df_complete):\n",
        "  train = df_complete.drop(columns=['win'])\n",
        "  train_labels = df_complete['win']\n",
        "  fs = FeatureSelector(data=train, labels=train_labels)\n",
        "  fs.identify_collinear(correlation_threshold=0.975)\n",
        "  fs.identify_zero_importance(task='regression',eval_metric='auc',n_iterations=10,early_stopping=True)\n",
        "  fs.identify_low_importance(cumulative_importance = 0.99)\n",
        "  all_to_remove = fs.check_removal()\n",
        "  clean_removed_db = train.drop(columns = all_to_remove)\n",
        "  split = len(clean_removed_db)-1\n",
        "  X_train, X_test = clean_removed_db, clean_removed_db[split:]\n",
        "  y_train = train_labels\n",
        "  classifier = RandomForestClassifier(n_estimators=3,max_depth=30,max_features='sqrt',min_samples_leaf=27,min_samples_split=2,random_state=42)\n",
        "  classifier.fit(X_train,y_train)\n",
        "  y_pred = classifier.predict(X_test)\n",
        "  return y_pred"
      ],
      "execution_count": 31,
      "outputs": []
    },
    {
      "cell_type": "code",
      "metadata": {
        "id": "BXV6nbVyJR4S",
        "colab_type": "code",
        "colab": {}
      },
      "source": [
        "def publictweet():\n",
        "  data = get_features(qqq,spy)\n",
        "  signal = get_bearish_or_bullish_signal(data)\n",
        "\n",
        "  prediction = y_pred.tolist()\n",
        "\n",
        "  if dt.date.today().weekday() == 0:\n",
        "    if prediction == 1:\n",
        "      tweettopublish = 'The week prediction for QQQ is Bullish. Last Close: ${:.2f}'.format(qqq['Close'].iloc[-1])\n",
        "    else:\n",
        "      tweettopublish = 'The week prediction for QQQ is Bearish. Last Close: ${:.2f}'.format(qqq['Close'].iloc[-1])\n",
        "\n",
        "  api.update_status(tweettopublish)"
      ],
      "execution_count": 48,
      "outputs": []
    }
  ]
}